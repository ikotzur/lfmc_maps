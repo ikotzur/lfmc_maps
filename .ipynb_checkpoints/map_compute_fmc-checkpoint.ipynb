{
 "cells": [
  {
   "cell_type": "code",
   "execution_count": 48,
   "id": "a8f2d427-06e6-4ca7-b2d1-6b715cf1d4f7",
   "metadata": {},
   "outputs": [],
   "source": [
    "# map_compute_fmc.py\n",
    "\n",
    "import xarray as xr\n",
    "import numpy as np\n",
    "from pyproj import Transformer\n",
    "import datetime\n",
    "import pickle#5 as pickle\n",
    "import time\n",
    "import argparse\n",
    "import sklearn_xarray\n",
    "import dask.distributed\n",
    "from pystac_client import Client\n",
    "from odc.stac import configure_rio, stac_load\n",
    "\n",
    "def map_compute_fmc(x_lat, y_lon, other_params=None):\n",
    "    \"\"\"\n",
    "    Given central coordinates x, y, predict forest LFMC for 10 km square around coordinates.\n",
    "    \"\"\"\n",
    "    # Create bounding box\n",
    "    # x_lat, y_lon = (150.72646076028656,-33.61529216202892)  # Example coordinates / center point of a query\n",
    "    transformer = Transformer.from_crs('EPSG:4326', 'EPSG:3308')\n",
    "    x,y = transformer.transform(y_lon,x_lat)\n",
    "    edge_area = 10000 # edge of the square area of interest around center point in m\n",
    "    # km2deg = 1.0 / 111\n",
    "    # r = edge_area * km2deg\n",
    "    # bbox = (x - r, y - r, x + r, y + r)\n",
    "    \n",
    "    # Load mask of vegetation/tree cover (Albers/20m projection, 3308), clip to bounding box pixels\n",
    "    trees = xr.open_dataset(f'data/nonveg_mask_nve_nsw_v2.tif', \n",
    "                chunks='auto').band_data.drop_vars('band').squeeze('band')\n",
    "    trees = trees.chunk('auto')\n",
    "    trees.attrs = {}\n",
    "    # trees = trees.rio.clip_box(*bbox, crs='EPSG:4326')\n",
    "    trees = trees.sel(x=slice(x-(edge_area/2), x+(edge_area/2)),\n",
    "                      y=slice(y+(edge_area/2), y-(edge_area/2)))\n",
    "    # rio.clip_box(*bbox, crs='EPSG:4326')\n",
    "                      \n",
    "    # Create date range for 30 days till today\n",
    "    today = str(datetime.date.today())\n",
    "    month_ago = str(datetime.date.today() - datetime.timedelta(days=30))\n",
    "    \n",
    "    # Create dask client\n",
    "    client = dask.distributed.Client()\n",
    "    configure_rio(cloud_defaults=True, aws={\"aws_unsigned\": True}, client=client)\n",
    "    \n",
    "    # Query STAC for reflectance data\n",
    "    catalog = Client.open(\"https://explorer.dea.ga.gov.au/stac\")\n",
    "    query = catalog.search(\n",
    "        collections=[\"ga_s2am_ard_3\",\"ga_s2bm_ard_3\",\"ga_s2cm_ard_3\"], \n",
    "        datetime=(month_ago,today), bbox=trees.rio.transform_bounds('EPSG:4326')\n",
    "    )\n",
    "    items = list(query.items())\n",
    "    \n",
    "    # Define bands of Sentinel-2 reflectance to retrieve\n",
    "    s2_bands = ['nbart_red','nbart_green','nbart_blue','nbart_red_edge_1','nbart_red_edge_2',\n",
    "             'nbart_red_edge_3','nbart_nir_1','nbart_nir_2','nbart_swir_2','nbart_swir_3']\n",
    "    \n",
    "    # Load data and apply fmask keeping only good (==1) data\n",
    "    s2_cube = stac_load(\n",
    "        items,\n",
    "        bands=s2_bands+['oa_fmask'],\n",
    "        # crs='epsg:3308',\n",
    "        # resolution=20,\n",
    "        # chunks={},  # <-- use Dask\n",
    "        chunks = {'time':1},\n",
    "        groupby=\"solar_day\",\n",
    "        cloud_mask='fmask',\n",
    "        like=trees\n",
    "    )\n",
    "    s2_cube = s2_cube.where(s2_cube['oa_fmask']==1)\n",
    "    s2_cube = s2_cube.drop_vars('oa_fmask')\n",
    "    s2_cube.load()\n",
    "    \n",
    "    # Add NDVI and NDII\n",
    "    s2_cube['ndii'] = ((s2_cube.nbart_nir_1-s2_cube.nbart_swir_2)/(s2_cube.nbart_nir_1+s2_cube.nbart_swir_2))\n",
    "    s2_cube['ndvi'] = ((s2_cube.nbart_nir_1-s2_cube.nbart_red)/(s2_cube.nbart_nir_1+s2_cube.nbart_red))\n",
    "    s2_cube.time.attrs = {}\n",
    "    \n",
    "    # Load the trained random forest model from disk\n",
    "    with open('rf_xr_s2fmc_forest.pickle', 'rb') as handle:\n",
    "        rf = pickle.load(handle)\n",
    "    rf_predictors = ['ndvi','ndii']+s2_bands\n",
    "    rf.set_params(n_jobs=-1)\n",
    "    rf.set_params(reshapes='variable')\n",
    "    \n",
    "    print('Data prepared.')\n",
    "    \n",
    "    # Encoding for writing netcdf\n",
    "    encoding = {'foliar_moisture_content':{'zlib': True, \"complevel\": 1, 'shuffle': True}}\n",
    "    x_,y_ = str(x).replace('.','_'), str(y).replace('.','_')\n",
    "    \n",
    "    # Run random forest emulator of RTM model of LFMC on each timestep of dataset\n",
    "    for t in s2_cube.time.data:\n",
    "        t0 = time.time()\n",
    "        data = s2_cube.sel(time=t) # selects timestep\n",
    "        data = data.chunk('auto') # sets the chunksize of the array to be spread across dask workers\n",
    "        data = data[rf_predictors].to_array().stack(index=['y','x']).transpose() # reshapes the dataset to an array to suit random forest\n",
    "        data = data.where(np.isfinite(data), 0) # sets all nan kind of data to 0 to suit random forest\n",
    "        try:\n",
    "            data = rf.predict(data) # runs random forest\n",
    "        except Exception as error:\n",
    "            print('Continuing to next timestep because of error:',error)\n",
    "            continue # in case of the rasterio error retrieving fmask\n",
    "        data = data.unstack(dim=['index']) # reverses the reshaping back to 2 dimensions (x and y)\n",
    "        data = data.where(np.isfinite(s2_cube.sel(time=t)['ndii'])) # reverses the setting of 0 to nan; applies mask from reflectance data\n",
    "        data = data.where(trees) # masks pixels which are not tree cover\n",
    "        data = data.assign_coords({'time':t,'spatial_ref':s2_cube.spatial_ref}).expand_dims('time') # assign the time dimension back to array\n",
    "        data = data.rename('foliar_moisture_content')\n",
    "    \n",
    "        # Write out a tif of the timestep\n",
    "        t_ = str(t)[:10] \n",
    "        data.rio.to_raster(f'outputs/lfmc_{x_}_{y_}_{t_}.tif', encoding=encoding)\n",
    "    \n",
    "        # Add time dimension to array and merge array back to s2_cube\n",
    "        # data['time'] = t\n",
    "        # data = data.expand_dims('time')\n",
    "        s2_cube = s2_cube.merge(data.compute())\n",
    "    \n",
    "    # Average LFMC across time and save out\n",
    "    s2_cube['mean_fmc'] = s2_cube['foliar_moisture_content'].mean('time')\n",
    "    s2_cube['mean_fmc'].rio.to_raster(f'outputs/lfmc_{x_}_{y_}_mean_{month_ago}_{today}.tif',\n",
    "                                     encoding=encoding)\n",
    "\n",
    "    print('Maps written to outputs/.')\n",
    "\n",
    "    return \n"
   ]
  },
  {
   "cell_type": "code",
   "execution_count": 2,
   "id": "e3f96d40-24ff-435e-bbf1-84fd9689c673",
   "metadata": {},
   "outputs": [
    {
     "data": {
      "application/vnd.jupyter.widget-view+json": {
       "model_id": "728470a426924b6da6a72776d05f4586",
       "version_major": 2,
       "version_minor": 0
      },
      "text/plain": [
       "FloatText(value=1026330.0, description='X (latitude):', style=DescriptionStyle(description_width='initial'))"
      ]
     },
     "metadata": {},
     "output_type": "display_data"
    },
    {
     "data": {
      "application/vnd.jupyter.widget-view+json": {
       "model_id": "79254d42c51d4cb9972d5b61d9afb8c6",
       "version_major": 2,
       "version_minor": 0
      },
      "text/plain": [
       "FloatText(value=-318.0, description='Y (longitude):', style=DescriptionStyle(description_width='initial'))"
      ]
     },
     "metadata": {},
     "output_type": "display_data"
    },
    {
     "data": {
      "application/vnd.jupyter.widget-view+json": {
       "model_id": "736fd8b67da7420580c7fa2feaf8ca82",
       "version_major": 2,
       "version_minor": 0
      },
      "text/plain": [
       "Button(description='Run FMC mapper', style=ButtonStyle())"
      ]
     },
     "metadata": {},
     "output_type": "display_data"
    }
   ],
   "source": [
    "import ipywidgets as widgets\n",
    "from IPython.display import display\n",
    "\n",
    "# Create input widgets for coordinates\n",
    "x_input = widgets.FloatText(\n",
    "    value=1026330.0,\n",
    "    description='X (latitude):',\n",
    "    style={'description_width': 'initial'}\n",
    ")\n",
    "y_input = widgets.FloatText(\n",
    "    value=-318.0,\n",
    "    description='Y (longitude):',\n",
    "    style={'description_width': 'initial'}\n",
    ")\n",
    "run_button = widgets.Button(description=\"Run FMC mapper\")\n",
    "\n",
    "display(x_input, y_input, run_button)\n",
    "\n",
    "# A dict to store results\n",
    "coords = {}\n",
    "\n",
    "def on_button_click(b):\n",
    "    coords['x'] = x_input.value\n",
    "    coords['y'] = y_input.value\n",
    "    print(f\"Coordinates set: X={coords['x']}, Y={coords['y']}\")\n",
    "\n",
    "run_button.on_click(on_button_click)"
   ]
  },
  {
   "cell_type": "code",
   "execution_count": null,
   "id": "30a096af-17f9-4479-b7d5-6e64d9021617",
   "metadata": {},
   "outputs": [],
   "source": [
    "map_compute_fmc(coords['x'], coords['y'])"
   ]
  }
 ],
 "metadata": {
  "kernelspec": {
   "display_name": "Python 3 (ipykernel)",
   "language": "python",
   "name": "python3"
  },
  "language_info": {
   "codemirror_mode": {
    "name": "ipython",
    "version": 3
   },
   "file_extension": ".py",
   "mimetype": "text/x-python",
   "name": "python",
   "nbconvert_exporter": "python",
   "pygments_lexer": "ipython3",
   "version": "3.9.23"
  }
 },
 "nbformat": 4,
 "nbformat_minor": 5
}
